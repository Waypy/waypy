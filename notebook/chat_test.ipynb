{
 "cells": [
  {
   "cell_type": "code",
   "execution_count": 2,
   "metadata": {},
   "outputs": [
    {
     "name": "stdout",
     "output_type": "stream",
     "text": [
      "Training Step: 1999  | total loss: \u001b[1m\u001b[32m0.02107\u001b[0m\u001b[0m | time: 0.004s\n",
      "| Adam | epoch: 1000 | loss: 0.02107 - acc: 0.9995 -- iter: 08/14\n",
      "Training Step: 2000  | total loss: \u001b[1m\u001b[32m0.02124\u001b[0m\u001b[0m | time: 0.008s\n",
      "| Adam | epoch: 1000 | loss: 0.02124 - acc: 0.9996 -- iter: 14/14\n",
      "--\n",
      "INFO:tensorflow:/home/fajar/Projects/opensource/waypy/modules/classifier/training/data/model.tflearn is not in all_model_checkpoint_paths. Manually adding it.\n",
      "INFO:tensorflow:Restoring parameters from /home/fajar/Projects/opensource/waypy/modules/classifier/training/data/model.tflearn\n",
      "found in part: yang\n",
      "[0 0 0 0 0 1 0 0 0 0 0 0 0 0 0 0 0 0 0 0 0]\n",
      "['chain', 'goodbye', 'greeting']\n",
      "[[  4.76610323e-04   1.46368043e-02   9.84886587e-01]]\n",
      "2\n",
      "greeting\n",
      "hai\n"
     ]
    }
   ],
   "source": [
    "from modules.classifier.worker import main\n",
    "\n",
    "print(main('hai'))"
   ]
  },
  {
   "cell_type": "code",
   "execution_count": null,
   "metadata": {
    "collapsed": true
   },
   "outputs": [],
   "source": []
  }
 ],
 "metadata": {
  "kernelspec": {
   "display_name": "Django Shell-Plus",
   "language": "python",
   "name": "django_extensions"
  },
  "language_info": {
   "codemirror_mode": {
    "name": "ipython",
    "version": 3
   },
   "file_extension": ".py",
   "mimetype": "text/x-python",
   "name": "python",
   "nbconvert_exporter": "python",
   "pygments_lexer": "ipython3",
   "version": "3.5.4"
  }
 },
 "nbformat": 4,
 "nbformat_minor": 2
}
